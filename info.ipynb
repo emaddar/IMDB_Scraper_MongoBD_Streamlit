{
 "cells": [
  {
   "cell_type": "markdown",
   "metadata": {},
   "source": [
    "# Projet :  SCRAPY MONGODB STREAMLIT\n",
    "https://docs.google.com/document/d/1blCtnKGfEDWuF-fdlD4GgZtePUdAlOuR/edit\n",
    "\n",
    "1- Download scrapy on ubuntu (in terminal)\n",
    "\n",
    "    sudo pip uninstall scrapy\n",
    "    sudo pip install scrapy\n"
   ]
  },
  {
   "cell_type": "markdown",
   "metadata": {},
   "source": [
    "2- Start new projrct scrapy (in terminal)\n",
    "\n",
    "\n",
    "    scrapy startproject [the name of your project]\n"
   ]
  },
  {
   "cell_type": "markdown",
   "metadata": {},
   "source": [
    "3-  Afer creating your spider in spider and provide class with name and start_url :\n",
    "    Go to the folder where you can find scrapy.cfg and run the terminal commande :\n",
    "    \n",
    "    scrapy crawl (the name you used in the class)"
   ]
  },
  {
   "cell_type": "markdown",
   "metadata": {},
   "source": [
    "scrapy crawl crawl_films -O test1.csv -s CLOSESPIDER_PAGECOUNT=5"
   ]
  },
  {
   "cell_type": "markdown",
   "metadata": {},
   "source": [
    "# Install MongoDB\n",
    "https://www.youtube.com/watch?v=HhfnuGcB3wc&t=135s\n",
    "or \n",
    "https://doc.ubuntu-fr.org/mongodb\n",
    "\n",
    "## Install Mongodb compass\n",
    "https://hevodata.com/learn/mongodb-compass-ubuntu/\n",
    "\n",
    "## Install Mongodb Atlas\n",
    "No application, it is just online\n",
    "\n",
    "## Mongodb with scrapy :\n",
    "https://www.youtube.com/watch?v=djfnjtYB2co&list=PLhTjy8cBISEqkN-5Ku_kXG4QW33sxQo0t&index=19\n",
    "\n"
   ]
  },
  {
   "cell_type": "code",
   "execution_count": null,
   "metadata": {},
   "outputs": [],
   "source": []
  }
 ],
 "metadata": {
  "kernelspec": {
   "display_name": "Python 3.10.6 64-bit",
   "language": "python",
   "name": "python3"
  },
  "language_info": {
   "codemirror_mode": {
    "name": "ipython",
    "version": 3
   },
   "file_extension": ".py",
   "mimetype": "text/x-python",
   "name": "python",
   "nbconvert_exporter": "python",
   "pygments_lexer": "ipython3",
   "version": "3.10.6 (main, Nov 14 2022, 16:10:14) [GCC 11.3.0]"
  },
  "orig_nbformat": 4,
  "vscode": {
   "interpreter": {
    "hash": "916dbcbb3f70747c44a77c7bcd40155683ae19c65e1c03b4aa3499c5328201f1"
   }
  }
 },
 "nbformat": 4,
 "nbformat_minor": 2
}
