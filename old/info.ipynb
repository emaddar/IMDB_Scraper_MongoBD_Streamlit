{
 "cells": [
  {
   "cell_type": "markdown",
   "metadata": {},
   "source": [
    "# Projet :  SCRAPY MONGODB STREAMLIT\n",
    "https://docs.google.com/document/d/1blCtnKGfEDWuF-fdlD4GgZtePUdAlOuR/edit\n",
    "\n",
    "1- Download scrapy on ubuntu (in terminal)\n",
    "\n",
    "    sudo pip uninstall scrapy\n",
    "    sudo pip install scrapy\n"
   ]
  },
  {
   "cell_type": "markdown",
   "metadata": {},
   "source": [
    "2- Start new projrct scrapy (in terminal)\n",
    "\n",
    "\n",
    "    scrapy startproject [the name of your project]\n"
   ]
  },
  {
   "cell_type": "markdown",
   "metadata": {},
   "source": [
    "3-  Afer creating your spider in spider and provide class with name and start_url :\n",
    "    Go to the folder where you can find scrapy.cfg and run the terminal commande :\n",
    "    \n",
    "    scrapy crawl (the name you used in the class)"
   ]
  },
  {
   "cell_type": "markdown",
   "metadata": {},
   "source": [
    "scrapy crawl crawl_films -O test1.csv -s CLOSESPIDER_PAGECOUNT=5"
   ]
  },
  {
   "cell_type": "markdown",
   "metadata": {},
   "source": [
    "# Install MongoDB\n",
    "https://www.youtube.com/watch?v=HhfnuGcB3wc&t=135s\n",
    "or \n",
    "https://doc.ubuntu-fr.org/mongodb\n",
    "\n",
    "## Install Mongodb compass\n",
    "https://hevodata.com/learn/mongodb-compass-ubuntu/\n",
    "\n",
    "## Install Mongodb Atlas\n",
    "No application, it is just online\n",
    "\n",
    "## Mongodb with scrapy :\n",
    "https://www.youtube.com/watch?v=djfnjtYB2co&list=PLhTjy8cBISEqkN-5Ku_kXG4QW33sxQo0t&index=19\n",
    "\n"
   ]
  },
  {
   "cell_type": "markdown",
   "metadata": {},
   "source": [
    "# SQL or NoSQL\n",
    "When deciding whether to use SQL or NoSQL, you should consider the following factors:\n",
    "\n",
    "- **Data structure**: SQL databases use a fixed schema, which defines the structure of the data and the relationships between different tables. This means that data must be organized in a specific way and must conform to the schema in order to be stored in the database. In contrast, NoSQL databases use a flexible schema, which means that data can be stored in a variety of formats and does not need to conform to a fixed structure.\n",
    "- **Scalability**: SQL databases are typically designed for smaller, more structured datasets, and may not scale as well as NoSQL databases when dealing with large amounts of data. NoSQL databases, on the other hand, are designed for horizontal scalability, which allows them to easily handle large volumes of data and high levels of concurrency.\n",
    "- **Query language**: SQL databases use a specialized query language called SQL (Structured Query Language) to access and manipulate data. This language is standardized and provides a consistent way to work with data. NoSQL databases, on the other hand, often use different query languages, depending on the type of database. This can make it more difficult to learn and use NoSQL databases, especially for developers who are not familiar with the specific query language used by a particular database.\n",
    "- **Use cases**: SQL databases are well-suited for applications that require complex queries and transactions, such as online banking systems or e-commerce websites. NoSQL databases, on the other hand, are better suited for applications that require fast access to large amounts of unstructured data, such as social media networks or real-time analytics.\n",
    "\n",
    "Ultimately, the choice between SQL and NoSQL depends on your specific requirements and use cases. If you need a flexible schema and are dealing with large volumes of data, a NoSQL database may be a better choice. If you need complex queries and transactions, or if you are working with a smaller, more structured dataset, a SQL database may be a better option.\n"
   ]
  }
 ],
 "metadata": {
  "kernelspec": {
   "display_name": "Python 3.10.6 64-bit",
   "language": "python",
   "name": "python3"
  },
  "language_info": {
   "codemirror_mode": {
    "name": "ipython",
    "version": 3
   },
   "file_extension": ".py",
   "mimetype": "text/x-python",
   "name": "python",
   "nbconvert_exporter": "python",
   "pygments_lexer": "ipython3",
   "version": "3.10.6 (main, Nov  2 2022, 18:53:38) [GCC 11.3.0]"
  },
  "orig_nbformat": 4,
  "vscode": {
   "interpreter": {
    "hash": "916dbcbb3f70747c44a77c7bcd40155683ae19c65e1c03b4aa3499c5328201f1"
   }
  }
 },
 "nbformat": 4,
 "nbformat_minor": 2
}
