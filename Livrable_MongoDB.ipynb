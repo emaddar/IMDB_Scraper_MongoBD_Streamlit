{
 "cells": [
  {
   "cell_type": "markdown",
   "metadata": {},
   "source": [
    "# Livrable MongoBd Emad DARWICH\n",
    "\n",
    "\n"
   ]
  },
  {
   "cell_type": "code",
   "execution_count": 2,
   "metadata": {},
   "outputs": [],
   "source": [
    "from pymongo import MongoClient\n",
    "import os\n",
    "from dotenv import load_dotenv\n",
    "load_dotenv()\n",
    "\n",
    "# create a MongoClient instance to connect to the database\n",
    "client = MongoClient(os.getenv(\"mylink\"))\n",
    "\n",
    "# get a reference to the database\n",
    "db = client['IMDB']\n",
    "\n",
    "# get a reference to the collection\n",
    "films = db['Films']"
   ]
  },
  {
   "cell_type": "markdown",
   "metadata": {},
   "source": [
    "## Question 1 :\n",
    "### Quel est le film le plus long ?"
   ]
  },
  {
   "cell_type": "code",
   "execution_count": 3,
   "metadata": {},
   "outputs": [
    {
     "name": "stdout",
     "output_type": "stream",
     "text": [
      "The Shawshank Redemption\n",
      "The Godfather\n",
      "The Lord of the Rings: The Return of the King\n",
      "The Dark Knight\n",
      "12 Angry Men\n"
     ]
    }
   ],
   "source": [
    "\n",
    "Q1 = films.find().sort(\"note\",-1).limit(5)\n",
    "for i in Q1:\n",
    "    print(i['title'][0])"
   ]
  },
  {
   "cell_type": "markdown",
   "metadata": {},
   "source": [
    "## Question 2 :\n",
    "### Quels sont les 5 films les mieux notés ?\n"
   ]
  },
  {
   "cell_type": "code",
   "execution_count": 4,
   "metadata": {},
   "outputs": [
    {
     "name": "stdout",
     "output_type": "stream",
     "text": [
      "The Shawshank Redemption\n",
      "The Godfather\n",
      "The Lord of the Rings: The Return of the King\n",
      "The Dark Knight\n",
      "12 Angry Men\n"
     ]
    }
   ],
   "source": [
    "Q2 = films.find().sort(\"note\",-1).limit(5)\n",
    "for i in Q2:\n",
    "    print(i['title'][0])"
   ]
  },
  {
   "cell_type": "markdown",
   "metadata": {},
   "source": [
    "## Question 3 :\n",
    "### Dans combien de films a joué Morgan Freeman ? Tom Cruise ?\n"
   ]
  },
  {
   "cell_type": "code",
   "execution_count": 5,
   "metadata": {},
   "outputs": [
    {
     "name": "stdout",
     "output_type": "stream",
     "text": [
      "The Shawshank Redemption\n",
      "The Dark Knight\n",
      "Million Dollar Baby\n",
      "Unforgiven\n",
      "Batman Begins\n",
      "The Dark Knight Rises\n",
      "Se7en\n",
      "Parmis les 250 top films, Moragane Freeman a joué en 7 film(s)\n"
     ]
    }
   ],
   "source": [
    "# Morgan Freeman\n",
    "count = 0\n",
    "Q3_Freeman = films.find({\"Acteurs\":{\"$in\":[\"Morgan Freeman\"]}})\n",
    "for i in Q3_Freeman:\n",
    "    print(i['title'][0])\n",
    "    count += 1\n",
    "print(f\"Parmis les 250 top films, Moragane Freeman a joué en {count} film(s)\")"
   ]
  },
  {
   "cell_type": "code",
   "execution_count": 6,
   "metadata": {},
   "outputs": [
    {
     "name": "stdout",
     "output_type": "stream",
     "text": [
      "Top Gun: Maverick\n",
      "Parmis les 250 top films, Tom Cruis a joué en 1 film(s)\n"
     ]
    }
   ],
   "source": [
    "# Morgan Cruise\n",
    "count = 0\n",
    "Q3_Cruise = films.find({\"Acteurs\":{\"$in\":[\"Tom Cruise\"]}})\n",
    "for i in Q3_Cruise:\n",
    "    print(i['title'][0])\n",
    "    count += 1\n",
    "print(f\"Parmis les 250 top films, Tom Cruis a joué en {count} film(s)\")"
   ]
  },
  {
   "cell_type": "markdown",
   "metadata": {},
   "source": [
    "## Question 4 :\n",
    "### Quels sont les 3 meilleurs films d’horreur ? Dramatique ? Comique ?\n"
   ]
  },
  {
   "cell_type": "code",
   "execution_count": 7,
   "metadata": {},
   "outputs": [
    {
     "name": "stdout",
     "output_type": "stream",
     "text": [
      "The Exorcist\n",
      "The Thing\n",
      "The Shining\n"
     ]
    }
   ],
   "source": [
    "Q4_horreur = films.find({\"Genre\":{\"$in\":[\"Horror\"]}}).sort(\"Note\",-1).limit(3)\n",
    "for i in Q4_horreur:\n",
    "    print(i['title'][0])"
   ]
  },
  {
   "cell_type": "code",
   "execution_count": 8,
   "metadata": {},
   "outputs": [
    {
     "name": "stdout",
     "output_type": "stream",
     "text": [
      "The Shawshank Redemption\n",
      "The Godfather\n",
      "12 Angry Men\n"
     ]
    }
   ],
   "source": [
    "Q4_Drama = films.find({\"Genre\":{\"$in\":[\"Drama\"]}}).sort(\"note\",-1).limit(3)\n",
    "for i in Q4_Drama:\n",
    "    print(i['title'][0])"
   ]
  },
  {
   "cell_type": "code",
   "execution_count": 9,
   "metadata": {},
   "outputs": [
    {
     "name": "stdout",
     "output_type": "stream",
     "text": [
      "Aladdin\n",
      "Life of Brian\n",
      "Everything Everywhere All at Once\n"
     ]
    }
   ],
   "source": [
    "Q4_Comedy = films.find({\"Genre\":{\"$in\":[\"Comedy\"]}}).sort(\"Note\",-1).limit(3)\n",
    "for i in Q4_Comedy:\n",
    "    print(i['title'][0])"
   ]
  },
  {
   "attachments": {},
   "cell_type": "markdown",
   "metadata": {},
   "source": [
    "## Question 5:\n",
    "### Parmi les 100 films les mieux notés, quel pourcentage sont américains ? Français ?\n"
   ]
  },
  {
   "cell_type": "code",
   "execution_count": 10,
   "metadata": {},
   "outputs": [
    {
     "name": "stdout",
     "output_type": "stream",
     "text": [
      "Pourcentage des films américains parmis les 100 films les mieux noté est : 74%\n"
     ]
    }
   ],
   "source": [
    "Q5_USA = films.find().sort(\"note\",-1).limit(100)\n",
    "count=0\n",
    "for i in Q5_USA:\n",
    "    if \"United States\" in i[\"Pays\"]:\n",
    "        count +=1\n",
    "\n",
    "print(f\"Pourcentage des films américains parmis les 100 films les mieux noté est : {count}%\")"
   ]
  },
  {
   "cell_type": "code",
   "execution_count": 13,
   "metadata": {},
   "outputs": [
    {
     "name": "stdout",
     "output_type": "stream",
     "text": [
      "Pourcentage des films français parmis les 100 films les mieux noté est : 6%\n"
     ]
    }
   ],
   "source": [
    "Q5_France = films.find().sort(\"Note\",-1).limit(100)\n",
    "count=0\n",
    "for i in Q5_France:\n",
    "    if \"France\" in i[\"Pays\"]:\n",
    "        count +=1\n",
    "        \n",
    "\n",
    "print(f\"Pourcentage des films français parmis les 100 films les mieux noté est : {count}%\")"
   ]
  },
  {
   "cell_type": "markdown",
   "metadata": {},
   "source": [
    "## Question 6 :\n",
    "### Quel est la durée moyenne d’un film en fonction du genre ?"
   ]
  },
  {
   "cell_type": "code",
   "execution_count": 16,
   "metadata": {},
   "outputs": [
    {
     "name": "stdout",
     "output_type": "stream",
     "text": [
      "[('Action', 135.7)]\n",
      "[('Adventure', 129.42)]\n",
      "[('Animation', 100.96)]\n",
      "[('Biography', 147.07)]\n",
      "[('Comedy', 107.69)]\n",
      "[('Crime', 131.78)]\n",
      "[('Drama', 134.64)]\n",
      "[('Family', 114.54)]\n",
      "[('Fantasy', 123.57)]\n",
      "[('Film-Noir', 110.0)]\n",
      "[('History', 156.0)]\n",
      "[('Horror', 120.6)]\n",
      "[('Music', 134.25)]\n",
      "[('Musical', 103.0)]\n",
      "[('Mystery', 124.61)]\n",
      "[('Romance', 121.82)]\n",
      "[('Sci-Fi', 131.7)]\n",
      "[('Sport', 122.0)]\n",
      "[('Thriller', 121.03)]\n",
      "[('War', 140.43)]\n",
      "[('Western', 149.33)]\n"
     ]
    }
   ],
   "source": [
    "for genre in films.distinct(\"Genre\"):\n",
    "    result = films.aggregate([\n",
    "        {\"$match\": {\"Genre\": genre}},\n",
    "        {\"$group\": {\"_id\": \"null\", \"avg_duree\": {\"$avg\": \"$duration\"}}}\n",
    "    ])\n",
    "    print([(genre,round(doc[\"avg_duree\"],2)) for doc in result])"
   ]
  },
  {
   "cell_type": "code",
   "execution_count": null,
   "metadata": {},
   "outputs": [],
   "source": []
  }
 ],
 "metadata": {
  "kernelspec": {
   "display_name": "Python 3",
   "language": "python",
   "name": "python3"
  },
  "language_info": {
   "codemirror_mode": {
    "name": "ipython",
    "version": 3
   },
   "file_extension": ".py",
   "mimetype": "text/x-python",
   "name": "python",
   "nbconvert_exporter": "python",
   "pygments_lexer": "ipython3",
   "version": "3.10.6 (main, Nov  2 2022, 18:53:38) [GCC 11.3.0]"
  },
  "orig_nbformat": 4,
  "vscode": {
   "interpreter": {
    "hash": "916dbcbb3f70747c44a77c7bcd40155683ae19c65e1c03b4aa3499c5328201f1"
   }
  }
 },
 "nbformat": 4,
 "nbformat_minor": 2
}
